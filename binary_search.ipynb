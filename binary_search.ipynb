{
 "cells": [
  {
   "cell_type": "markdown",
   "metadata": {},
   "source": [
    "Binary Search"
   ]
  },
  {
   "cell_type": "code",
   "execution_count": 45,
   "metadata": {},
   "outputs": [],
   "source": [
    "# Iterative method\n",
    "\n",
    "def binary_search_iterative(list,x):\n",
    "\n",
    "    if len(list) == 0:\n",
    "        return -1\n",
    "    \n",
    "    low = 0\n",
    "    high = len(list)-1\n",
    "\n",
    "    while low <= high:\n",
    "\n",
    "        mid = low + (high-low)//2\n",
    "\n",
    "        if list[mid] == x:\n",
    "            return mid\n",
    "        elif list[mid] < x:\n",
    "            low = mid+1\n",
    "        else:\n",
    "            high = mid-1\n",
    "    \n",
    "    return -1\n",
    "        "
   ]
  },
  {
   "cell_type": "code",
   "execution_count": 47,
   "metadata": {},
   "outputs": [
    {
     "name": "stdout",
     "output_type": "stream",
     "text": [
      "8\n"
     ]
    }
   ],
   "source": [
    "res = binary_search_iterative([1,3,4,5,7,8,9,13,18], 18)\n",
    "print(res)"
   ]
  },
  {
   "cell_type": "code",
   "execution_count": 48,
   "metadata": {},
   "outputs": [],
   "source": [
    "# Recursive method\n",
    "\n",
    "def binary_search_recursive(list,x,low,high):\n",
    "\n",
    "    if low > high:\n",
    "        return -1\n",
    "    else:\n",
    "        mid = low + (high-low)//2\n",
    "\n",
    "        if list[mid] == x:\n",
    "            return mid\n",
    "        elif list[mid] < x:\n",
    "            return binary_search_recursive(list,x,mid+1,high)\n",
    "        else:\n",
    "            return binary_search_recursive(list,x,low,mid-1)"
   ]
  },
  {
   "cell_type": "code",
   "execution_count": 50,
   "metadata": {},
   "outputs": [
    {
     "name": "stdout",
     "output_type": "stream",
     "text": [
      "8\n"
     ]
    }
   ],
   "source": [
    "A = [1,3,4,5,7,8,9,13,18]\n",
    "res = binary_search_recursive(A, 18, 0, len(A)-1 )\n",
    "print(res)"
   ]
  },
  {
   "cell_type": "markdown",
   "metadata": {},
   "source": [
    "First occurence of element"
   ]
  },
  {
   "cell_type": "code",
   "execution_count": 57,
   "metadata": {},
   "outputs": [],
   "source": [
    "def first_occ(list,x):\n",
    "\n",
    "    if len(list) == 0:\n",
    "        return -1\n",
    "    \n",
    "    low = 0\n",
    "    high = len(list) - 1\n",
    "    result = -1\n",
    "\n",
    "    while low <= high:\n",
    "\n",
    "        mid = low + (high-low)//2\n",
    "\n",
    "        if list[mid] == x:\n",
    "            result = mid\n",
    "            high = mid-1 # low = mid+1 for last occurence\n",
    "        elif list[mid] > x:\n",
    "            high = mid-1\n",
    "        else:\n",
    "            low = mid+1\n",
    "    return result"
   ]
  },
  {
   "cell_type": "code",
   "execution_count": 58,
   "metadata": {},
   "outputs": [
    {
     "name": "stdout",
     "output_type": "stream",
     "text": [
      "2\n"
     ]
    }
   ],
   "source": [
    "res = first_occ([1,2,3,3,3,3,3,4,5,6,7,8,9], 3)\n",
    "print(res)"
   ]
  },
  {
   "cell_type": "markdown",
   "metadata": {},
   "source": [
    "Occurence Count of an element"
   ]
  },
  {
   "cell_type": "code",
   "execution_count": 59,
   "metadata": {},
   "outputs": [],
   "source": [
    "def occ_count(list, x, first_index):\n",
    "\n",
    "    if len(list) == 0:\n",
    "        return 0\n",
    "    \n",
    "    low = 0\n",
    "    high = len(list)-1\n",
    "    result = -1\n",
    "    \n",
    "    while low <= high:\n",
    "\n",
    "        mid = low + (high-low)//2\n",
    "\n",
    "        if list[mid] == x:\n",
    "            result = mid\n",
    "            if first_index:\n",
    "                high = mid-1\n",
    "            else:\n",
    "                low = mid+1\n",
    "        elif list[mid] > x:\n",
    "            high = mid -1\n",
    "        else:\n",
    "            low = mid+1\n",
    "    return result\n"
   ]
  },
  {
   "cell_type": "code",
   "execution_count": 60,
   "metadata": {},
   "outputs": [
    {
     "name": "stdout",
     "output_type": "stream",
     "text": [
      "Occurence count of 5: 8\n"
     ]
    }
   ],
   "source": [
    "A = [1,2,3,4,5,5,5,5,5,5,5,5,6,8,9,10]\n",
    "x = 5\n",
    "f = occ_count(A,x,True)\n",
    "if f == -1:\n",
    "    print(f\"Occurence count of {x}:\",0)\n",
    "else:\n",
    "    l = occ_count(A,x,False)\n",
    "    print(f\"Occurence count of {x}:\",l-f+1)"
   ]
  },
  {
   "cell_type": "code",
   "execution_count": null,
   "metadata": {},
   "outputs": [],
   "source": []
  }
 ],
 "metadata": {
  "kernelspec": {
   "display_name": "Python 3",
   "language": "python",
   "name": "python3"
  },
  "language_info": {
   "codemirror_mode": {
    "name": "ipython",
    "version": 3
   },
   "file_extension": ".py",
   "mimetype": "text/x-python",
   "name": "python",
   "nbconvert_exporter": "python",
   "pygments_lexer": "ipython3",
   "version": "3.10.11"
  }
 },
 "nbformat": 4,
 "nbformat_minor": 2
}

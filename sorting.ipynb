{
 "cells": [
  {
   "cell_type": "markdown",
   "metadata": {},
   "source": [
    "Bubble Sort"
   ]
  },
  {
   "cell_type": "code",
   "execution_count": 68,
   "metadata": {},
   "outputs": [],
   "source": [
    "def bubble_sort(lst):\n",
    "\n",
    "    for i in range(len(lst)-1):\n",
    "\n",
    "        for j in range(len(lst)-i-1):\n",
    "\n",
    "            if lst[j] > lst[j+1]:\n",
    "\n",
    "                (lst[j],lst[j+1]) = (lst[j+1],lst[j])\n",
    "\n",
    "    return lst\n"
   ]
  },
  {
   "cell_type": "code",
   "execution_count": null,
   "metadata": {},
   "outputs": [
    {
     "name": "stdout",
     "output_type": "stream",
     "text": [
      "[1, 2, 3, 4, 5, 6, 7, 8, 9]\n"
     ]
    }
   ],
   "source": [
    "res = bubble_sort([9,8,7,6,5,4,3,2,1])\n",
    "print(res)"
   ]
  },
  {
   "cell_type": "markdown",
   "metadata": {},
   "source": [
    "Selection Sort"
   ]
  },
  {
   "cell_type": "code",
   "execution_count": 70,
   "metadata": {},
   "outputs": [],
   "source": [
    "def selection_sort(lst):\n",
    "\n",
    "    for i in range(len(lst)-1):\n",
    "\n",
    "        mini = i\n",
    "\n",
    "        for j in range(i+1,len(lst)):\n",
    "\n",
    "            if lst[j] < lst[mini]:\n",
    "                mini = j\n",
    "\n",
    "        (lst[i],lst[mini]) = (lst[mini],lst[i])\n",
    "\n",
    "    return lst"
   ]
  },
  {
   "cell_type": "code",
   "execution_count": 71,
   "metadata": {},
   "outputs": [
    {
     "name": "stdout",
     "output_type": "stream",
     "text": [
      "[1, 2, 3, 4, 5, 6, 7, 8, 9]\n"
     ]
    }
   ],
   "source": [
    "res = selection_sort([9,8,7,6,5,4,3,2,1])\n",
    "print(res)"
   ]
  },
  {
   "cell_type": "markdown",
   "metadata": {},
   "source": [
    "Insertion sort"
   ]
  },
  {
   "cell_type": "code",
   "execution_count": 74,
   "metadata": {},
   "outputs": [],
   "source": [
    "def insertion_sort(lst):\n",
    "\n",
    "    for i in range(1,len(lst)):\n",
    "        key = lst[i]\n",
    "        j = i-1\n",
    "\n",
    "        while j>=0 and key < lst[j]:\n",
    "            lst[j+1] = lst[j]\n",
    "            j = j-1\n",
    "        \n",
    "        lst[j+1] = key\n",
    "    \n",
    "    return lst"
   ]
  },
  {
   "cell_type": "code",
   "execution_count": 75,
   "metadata": {},
   "outputs": [
    {
     "name": "stdout",
     "output_type": "stream",
     "text": [
      "[1, 2, 3, 4, 5, 6, 7, 8, 9]\n"
     ]
    }
   ],
   "source": [
    "res = insertion_sort([9,8,7,6,5,4,3,2,1])\n",
    "print(res)"
   ]
  },
  {
   "cell_type": "markdown",
   "metadata": {},
   "source": [
    "Merge sort"
   ]
  },
  {
   "cell_type": "code",
   "execution_count": 93,
   "metadata": {},
   "outputs": [],
   "source": [
    "def merge_sort(lst):\n",
    "    \n",
    "    if len(lst) > 1:\n",
    "\n",
    "        m = (len(lst))//2\n",
    "\n",
    "        h1 = lst[:m]\n",
    "        h2 = lst[m:]\n",
    "\n",
    "        merge_sort(h1)\n",
    "        merge_sort(h2)\n",
    "\n",
    "        i = j = k = 0\n",
    "\n",
    "        while i<len(h1) and j<len(h2):\n",
    "            if h1[i] < h2[j]:\n",
    "                lst[k] = h1[i]\n",
    "                i+=1\n",
    "            else:\n",
    "                lst[k] = h2[j]\n",
    "                j+=1\n",
    "            \n",
    "            k+=1\n",
    "        \n",
    "        while i<len(h1):\n",
    "            lst[k] = h1[i]\n",
    "            i+=1\n",
    "            k+=1 \n",
    "        \n",
    "        while j<len(h2):\n",
    "            lst[k] = h2[j]\n",
    "            j+=1\n",
    "            k+=1     \n",
    "    \n",
    "    return lst"
   ]
  },
  {
   "cell_type": "code",
   "execution_count": 95,
   "metadata": {},
   "outputs": [
    {
     "name": "stdout",
     "output_type": "stream",
     "text": [
      "[1, 2, 3, 4, 5, 6, 7, 8, 9]\n"
     ]
    }
   ],
   "source": [
    "res = merge_sort([9,8,7,6,5,4,3,2,1])\n",
    "print(res)"
   ]
  },
  {
   "cell_type": "code",
   "execution_count": null,
   "metadata": {},
   "outputs": [],
   "source": []
  }
 ],
 "metadata": {
  "kernelspec": {
   "display_name": "Python 3",
   "language": "python",
   "name": "python3"
  },
  "language_info": {
   "codemirror_mode": {
    "name": "ipython",
    "version": 3
   },
   "file_extension": ".py",
   "mimetype": "text/x-python",
   "name": "python",
   "nbconvert_exporter": "python",
   "pygments_lexer": "ipython3",
   "version": "3.10.11"
  }
 },
 "nbformat": 4,
 "nbformat_minor": 2
}
